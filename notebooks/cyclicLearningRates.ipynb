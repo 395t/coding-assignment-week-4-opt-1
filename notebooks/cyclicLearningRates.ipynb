{
  "nbformat": 4,
  "nbformat_minor": 0,
  "metadata": {
    "colab": {
      "name": "Week4_1.ipynb",
      "provenance": [],
      "collapsed_sections": [],
      "machine_shape": "hm"
    },
    "kernelspec": {
      "display_name": "Python 3 (ipykernel)",
      "language": "python",
      "name": "python3"
    },
    "language_info": {
      "codemirror_mode": {
        "name": "ipython",
        "version": 3
      },
      "file_extension": ".py",
      "mimetype": "text/x-python",
      "name": "python",
      "nbconvert_exporter": "python",
      "pygments_lexer": "ipython3",
      "version": "3.8.5"
    },
    "accelerator": "GPU"
  },
  "cells": [
    {
      "cell_type": "code",
      "metadata": {
        "id": "nbBfI_8PbVDO"
      },
      "source": [
        "# Imports\n",
        "from tqdm import tqdm\n",
        "import torch\n",
        "import torch.nn as nn\n",
        "import torch.nn.functional as F\n",
        "import torchvision\n",
        "import torchvision.transforms as transforms\n",
        "from sklearn.model_selection import train_test_split\n",
        "\n",
        "# Hyperparams\n",
        "# training config\n",
        "NUM_EPOCHS= 200\n",
        "LR=0.001\n",
        "# dataset config\n",
        "batch_size = 128\n",
        "generator=torch.Generator().manual_seed(42) # Can be included for reproducability"
      ],
      "execution_count": 1,
      "outputs": []
    },
    {
      "cell_type": "code",
      "metadata": {
        "colab": {
          "base_uri": "https://localhost:8080/"
        },
        "id": "EgyFDQs2bK7t",
        "outputId": "adad7374-afcf-4686-85b1-d89b743361f5"
      },
      "source": [
        "# Get cpu or gpu device for training.\n",
        "device = \"cuda\" if torch.cuda.is_available() else \"cpu\"\n",
        "print(\"Using {} device\".format(device))"
      ],
      "execution_count": 2,
      "outputs": [
        {
          "output_type": "stream",
          "name": "stdout",
          "text": [
            "Using cuda device\n"
          ]
        }
      ]
    },
    {
      "cell_type": "code",
      "metadata": {
        "id": "QuGtFcYBaTwL"
      },
      "source": [
        "_transform = transforms.Compose(\n",
        "    [transforms.ToTensor(),\n",
        "     transforms.Normalize((0.5, 0.5, 0.5), (0.5, 0.5, 0.5))])\n",
        "transform_train = transforms.Compose([\n",
        "    transforms.RandomCrop(32, padding=4),\n",
        "    transforms.RandomHorizontalFlip(),\n",
        "    transforms.ToTensor(),\n",
        "    transforms.Normalize((0.4914, 0.4822, 0.4465), (0.2023, 0.1994, 0.2010)),\n",
        "])\n",
        "\n",
        "transform_test = transforms.Compose([\n",
        "    transforms.ToTensor(),\n",
        "    transforms.Normalize((0.4914, 0.4822, 0.4465), (0.2023, 0.1994, 0.2010)),\n",
        "])\n",
        "\n",
        "NUM_CLASSES = 0\n",
        "\n",
        "def getTrainingSet(dataset_name):\n",
        "  NUM_CLASSES=10\n",
        "\n",
        "  trainset = torchvision.datasets.CIFAR10(root='./data', train=True,\n",
        "                                          download=True, transform=transform_train)\n",
        "\n",
        "  testset = torchvision.datasets.CIFAR10(root='./data', train=False,\n",
        "                                          download=True, transform=transform_test)\n",
        "    \n",
        "\n",
        "  trainset, validset = torch.utils.data.random_split(trainset, \n",
        "                                                      [int(len(trainset)*0.8),len(trainset)- \n",
        "                                                      int(len(trainset)*0.8)], generator=generator)\n",
        "  if dataset_name == 'CIFAR-10':\n",
        "    NUM_CLASSES=10\n",
        "\n",
        "    trainset = torchvision.datasets.CIFAR10(root='./data', train=True,\n",
        "                                          download=True, transform=transform_train)\n",
        "\n",
        "    testset = torchvision.datasets.CIFAR10(root='./data', train=False,\n",
        "                                          download=True, transform=transform_test)\n",
        "    \n",
        "\n",
        "    trainset, validset = torch.utils.data.random_split(trainset, \n",
        "                                                      [int(len(trainset)*0.8),len(trainset)- \n",
        "                                                      int(len(trainset)*0.8)], generator=generator)\n",
        "    \n",
        "  elif dataset_name == 'STL10':\n",
        "    NUM_CLASSES=10\n",
        "    \n",
        "    trainset = torchvision.datasets.STL10(root='./data', split='train',\n",
        "                                          download=True, transform=transform_train)\n",
        "\n",
        "    testset = torchvision.datasets.STL10(root='./data', split='test',\n",
        "                                          download=True, transform=transform_train)\n",
        "    \n",
        "\n",
        "    trainset, validset = torch.utils.data.random_split(trainset, \n",
        "                                                      [int(len(trainset)*0.8),len(trainset)- \n",
        "                                                      int(len(trainset)*0.8)], generator=generator)\n",
        "    \n",
        "  elif dataset_name == 'tiny-imagenet':\n",
        "    NUM_CLASSES=200\n",
        "    \n",
        "    !wget http://cs231n.stanford.edu/tiny-imagenet-200.zip\n",
        "    !unzip -qq 'tiny-imagenet-200.zip'\n",
        "    \n",
        "    \n",
        "    totalset = torchvision.datasets.ImageFolder('tiny-imagenet-200/train', \n",
        "                                                   transform=transform_train)\n",
        "  \n",
        "    train_counts = [0] * 200\n",
        "    valid_counts = [0] * 200\n",
        "    trainset = []\n",
        "    validset = []\n",
        "    testset = []\n",
        "    for item in totalset:\n",
        "        if train_counts[item[1]] < 350:\n",
        "            trainset.append(item)\n",
        "            train_counts[item[1]] += 1\n",
        "        elif valid_counts[item[1]] < 75:\n",
        "            validset.append(item)\n",
        "            valid_counts[item[1]] += 1\n",
        "        else:\n",
        "            testset.append(item)\n",
        "\n",
        "  elif dataset_name == 'Caltech101':\n",
        "    NUM_CLASSES=101\n",
        "    !gdown https://drive.google.com/uc?id=1DX_XeKHn3yXtZ18DD7qc1wf-Jy5lnhD5\n",
        "    !unzip -qq '101_ObjectCategories.zip' \n",
        "\n",
        "    PATH = '101_ObjectCategories/'\n",
        "\n",
        "    transform = transforms.Compose(\n",
        "      [transforms.CenterCrop(256),\n",
        "      transforms.Resize((64,64)),\n",
        "      transforms.ToTensor(),\n",
        "      transforms.Normalize((0.5, 0.5, 0.5), (0.5, 0.5, 0.5))])\n",
        "    \n",
        "    totalset = torchvision.datasets.ImageFolder(PATH, transform=transform_train)\n",
        "\n",
        "    X, y = zip(*totalset)\n",
        "\n",
        "    X_train, X_val, y_train, y_val = train_test_split(X, y, test_size = 0.3, \n",
        "                                                      stratify=y)\n",
        "    X_val, X_test, y_val, y_test = train_test_split(X_val, y_val, \n",
        "                                                    test_size = 0.5, \n",
        "                                                    stratify=y_val)\n",
        "\n",
        "    trainset, validset, testset = list(zip(X_train, y_train)), list(zip(X_val, y_val)), list(zip(X_test, y_test))\n",
        "\n",
        "\n",
        "\n",
        "\n",
        "  trainloader = torch.utils.data.DataLoader(trainset, batch_size=batch_size,\n",
        "                                            shuffle=True, num_workers=2)\n",
        "  validloader = torch.utils.data.DataLoader(validset, batch_size=batch_size,\n",
        "                                            shuffle=False,num_workers=2)\n",
        "  testloader = torch.utils.data.DataLoader(testset, batch_size=batch_size,\n",
        "                                          shuffle=False, num_workers=2)\n",
        "  return trainset, testset, trainloader, testloader"
      ],
      "execution_count": 3,
      "outputs": []
    },
    {
      "cell_type": "code",
      "metadata": {
        "id": "19vq06WPVDdB"
      },
      "source": [
        "class VGGStyleNet(nn.Module):\n",
        "    def __init__(self, num_classes: int = 10, init_weights: bool = True):\n",
        "        super(VGGStyleNet, self).__init__()\n",
        "        self.conv1_1 = nn.Conv2d(3, 64, kernel_size=3, padding=1)\n",
        "        self.conv1_2 = nn.Conv2d(64, 64, kernel_size=3, padding=1)\n",
        "        self.maxpool1 = nn.MaxPool2d(2)\n",
        "        self.conv2_1 = nn.Conv2d(64, 128, kernel_size=3, padding=1)\n",
        "        self.conv2_2 = nn.Conv2d(128, 128, kernel_size=3, padding=1)\n",
        "        self.maxpool2 = nn.MaxPool2d(2)\n",
        "        self.classifier = nn.Sequential(\n",
        "            nn.Linear(128*8*8, 4096),\n",
        "            nn.ReLU(True),\n",
        "            nn.Dropout(),\n",
        "            nn.Linear(4096, 4096),\n",
        "            nn.ReLU(True),\n",
        "            nn.Dropout(),\n",
        "            nn.Linear(4096, num_classes),\n",
        "        )\n",
        "        if init_weights:\n",
        "            self._initialize_weights()\n",
        "    \n",
        "    def _initialize_weights(self) -> None:\n",
        "        for m in self.modules():\n",
        "            if isinstance(m, nn.Conv2d):\n",
        "                nn.init.kaiming_normal_(m.weight, mode='fan_out', nonlinearity='relu')\n",
        "                if m.bias is not None:\n",
        "                    nn.init.constant_(m.bias, 0)\n",
        "#             elif isinstance(m, nn.BatchNorm2d):\n",
        "#                 nn.init.constant_(m.weight, 1)\n",
        "#                 nn.init.constant_(m.bias, 0)\n",
        "            elif isinstance(m, nn.Linear):\n",
        "                nn.init.normal_(m.weight, 0, 0.01)\n",
        "                nn.init.constant_(m.bias, 0)\n",
        "        \n",
        "    def forward(self, x):\n",
        "        out = F.relu(self.conv1_1(x))\n",
        "        out = F.relu(self.conv1_2(out))\n",
        "        out = self.maxpool1(out)\n",
        "        out = F.relu(self.conv2_1(out))\n",
        "        out = F.relu(self.conv2_2(out))\n",
        "        out = self.maxpool2(out)\n",
        "        out = torch.flatten(out, 1)\n",
        "        out = self.classifier(out)\n",
        "        return out"
      ],
      "execution_count": 4,
      "outputs": []
    },
    {
      "cell_type": "code",
      "metadata": {
        "id": "VSnzvTFYGxnV"
      },
      "source": [
        "class ResNetBasicBlock(nn.Module):\n",
        "    expansion = 1\n",
        "\n",
        "    def __init__(self, in_planes, planes, stride=1):\n",
        "        super(ResNetBasicBlock, self).__init__()\n",
        "        self.conv1 = nn.Conv2d(in_planes, planes, kernel_size=3, stride=stride, padding=1, bias=False)\n",
        "        self.bn1 = nn.BatchNorm2d(planes)\n",
        "        self.conv2 = nn.Conv2d(planes, planes, kernel_size=3, stride=1, padding=1, bias=False)\n",
        "        self.bn2 = nn.BatchNorm2d(planes)\n",
        "\n",
        "        self.shortcut = nn.Sequential()\n",
        "        if stride != 1 or in_planes != self.expansion*planes:\n",
        "            self.shortcut = nn.Sequential(\n",
        "                nn.Conv2d(in_planes, self.expansion*planes, kernel_size=1, stride=stride, bias=False),\n",
        "                nn.BatchNorm2d(self.expansion*planes)\n",
        "            )\n",
        "\n",
        "    def forward(self, x):\n",
        "        out = F.relu(self.bn1(self.conv1(x)))\n",
        "        out = self.bn2(self.conv2(out))\n",
        "        out += self.shortcut(x)\n",
        "        out = F.relu(out)\n",
        "        return out"
      ],
      "execution_count": 5,
      "outputs": []
    },
    {
      "cell_type": "code",
      "metadata": {
        "id": "bBZ8k0lAG2dL"
      },
      "source": [
        "class ResNet(nn.Module):\n",
        "    def __init__(self, block, num_blocks, num_classes=10):\n",
        "        super(ResNet, self).__init__()\n",
        "        self.in_planes = 64\n",
        "\n",
        "        self.conv1 = nn.Conv2d(3, 64, kernel_size=3, stride=1, padding=1, bias=False)\n",
        "        self.bn1 = nn.BatchNorm2d(64)\n",
        "        self.layer1 = self._make_layer(block, 64, num_blocks[0], stride=1)\n",
        "        self.layer2 = self._make_layer(block, 128, num_blocks[1], stride=2)\n",
        "        self.layer3 = self._make_layer(block, 256, num_blocks[2], stride=2)\n",
        "        self.layer4 = self._make_layer(block, 512, num_blocks[3], stride=2)\n",
        "        self.linear = nn.Linear(512*block.expansion, num_classes)\n",
        "\n",
        "    def _make_layer(self, block, planes, num_blocks, stride):\n",
        "        strides = [stride] + [1]*(num_blocks-1)\n",
        "        layers = []\n",
        "        for stride in strides:\n",
        "            layers.append(block(self.in_planes, planes, stride))\n",
        "            self.in_planes = planes * block.expansion\n",
        "        return nn.Sequential(*layers)\n",
        "\n",
        "    def forward(self, x):\n",
        "        out = F.relu(self.bn1(self.conv1(x)))\n",
        "        out = self.layer1(out)\n",
        "        out = self.layer2(out)\n",
        "        out = self.layer3(out)\n",
        "        out = self.layer4(out)\n",
        "        out = F.avg_pool2d(out, 4)\n",
        "        out = out.view(out.size(0), -1)\n",
        "        out = self.linear(out)\n",
        "        return out"
      ],
      "execution_count": 6,
      "outputs": []
    },
    {
      "cell_type": "code",
      "metadata": {
        "colab": {
          "base_uri": "https://localhost:8080/"
        },
        "id": "IM8X5tXRHCFR",
        "outputId": "8a9ad1c3-a728-4e7a-bf0b-d3d351fcb4a6"
      },
      "source": [
        "# Model\n"
      ],
      "execution_count": 29,
      "outputs": [
        {
          "output_type": "stream",
          "name": "stdout",
          "text": [
            "Files already downloaded and verified\n",
            "Files already downloaded and verified\n"
          ]
        }
      ]
    },
    {
      "cell_type": "code",
      "metadata": {
        "id": "QFftkVJfMwgB"
      },
      "source": [
        "def train(max_lr, base_mommentum, dataset, mode , trainset, testset, trainloader, testloader):\n",
        "  correct_images = 0\n",
        "  total_images = 0\n",
        "  training_loss = 0\n",
        "  net = VGGStyleNet()\n",
        "  net.to(device)\n",
        "  criterion = nn.CrossEntropyLoss()\n",
        "  optimizer = torch.optim.SGD(net.parameters(), lr=0.01, momentum=0.9, weight_decay=5e-4)\n",
        "  scheduler = None\n",
        "  if (lr != \"Baseline\"):\n",
        "    optimizer = torch.optim.SGD(net.parameters(), lr=0.1, momentum=0.9, weight_decay=5e-4)\n",
        "    scheduler = torch.optim.lr_scheduler.CyclicLR(optimizer, base_lr=max_lr*0.25, max_lr=max_lr, mode=mode)\n",
        "  validation_accuracy = []\n",
        "  train_losses = []\n",
        "  train_accuracies = []\n",
        "  net.train()\n",
        "  for epoch in range(20):\n",
        "    training_loss = 0\n",
        "    for batch_index, (images, labels) in enumerate(trainloader):\n",
        "      optimizer.zero_grad()\n",
        "      images, labels = images.to(device), labels.to(device)\n",
        "      outputs = net(images)\n",
        "      loss = criterion(outputs, labels)\n",
        "      loss.backward()\n",
        "      if (lr != \"Baseline\"):\n",
        "        optimizer.step()\n",
        "        scheduler.step()\n",
        "      else:\n",
        "        optimizer.step()\n",
        "      training_loss += loss.item()\n",
        "      _, predicted = outputs.max(1)\n",
        "      total_images += labels.size(0)\n",
        "      correct_images += predicted.eq(labels).sum().item()\n",
        "    print('Epoch: %d, Loss: %.3f, '\n",
        "                'Accuracy: %.3f%% (%d/%d)' % (epoch, training_loss/(batch_index+1),\n",
        "                                        100.*correct_images/total_images, correct_images, total_images))\n",
        "    train_accuracies.append(100.*correct_images/total_images)\n",
        "    correct_images = 0\n",
        "    total_images = 0\n",
        "    test_loss = 0\n",
        "    net.eval()\n",
        "    with torch.no_grad():\n",
        "      for batch_index, (images, labels) in enumerate(testloader):\n",
        "        images, labels = images.to(device), labels.to(device)\n",
        "        outputs = net(images)\n",
        "        loss = criterion(outputs, labels)\n",
        "        test_loss += loss.item()\n",
        "        _, predicted = outputs.max(1)\n",
        "        total_images += labels.size(0)\n",
        "        correct_images += predicted.eq(labels).sum().item()\n",
        "#         print(batch_index, len(testloader), 'Loss: %.3f | Acc: %.3f%% (%d/%d)'\n",
        "#                   % (test_loss/(batch_index+1), 100.*correct_images/total_images, correct_images, total_images))\n",
        "    validation_accuracy.append(100.*correct_images/total_images)\n",
        "    train_losses.append(training_loss)\n",
        "  return net, train_losses, validation_accuracy, train_accuracies"
      ],
      "execution_count": 12,
      "outputs": []
    },
    {
      "cell_type": "code",
      "metadata": {
        "colab": {
          "base_uri": "https://localhost:8080/",
          "height": 1000
        },
        "id": "Qu4r6wHJVmL4",
        "outputId": "46614f49-d24e-4749-d07f-9bc0af06ccb9"
      },
      "source": [
        "import matplotlib.pyplot as plt\n",
        "\n",
        "cycleLRModes = ['triangular', 'triangular2', 'exp_range']\n",
        "learning_rates = [\"Baseline\", 0.1, 0.01, 0.001]\n",
        "datasets = [\"CIFAR-10\", \"Caltech101\", \"STL10\"]\n",
        "datasets = [\"CIFAR-10\"]\n",
        "\n",
        "for data in datasets:\n",
        "  trainset, testset, trainloader, testloader = getTrainingSet(data)\n",
        "  t = tqdm(len(cycleLRModes) * len(learning_rates))\n",
        "  for mode in cycleLRModes:\n",
        "    validation_curves = {}\n",
        "    train_curves = {}\n",
        "    train_loss_curves = {}\n",
        "    for lr in learning_rates:\n",
        "      net, train_losses, validation_accuracy, train_accuracies = train(lr, 0.8,data, mode, trainset, testset, trainloader, testloader)\n",
        "      validation_curves[lr] = validation_accuracy\n",
        "      train_curves[lr] = train_accuracies\n",
        "      train_loss_curves[lr] = train_losses\n",
        "      t.update(1)\n",
        "\n",
        "    print(\"DONESKDAKSDJLSD\")\n",
        "\n",
        "    for l in validation_curves:\n",
        "      plt.plot(validation_curves[l], label = l)\n",
        "    plt.title(\"Epoch vs Validation Percentage Error\")\n",
        "    plt.xlabel(\"Epoch\")\n",
        "    plt.ylabel(\"Percentage Accuracy (%)\")\n",
        "    plt.legend()\n",
        "    plt.show()\n",
        "\n",
        "    for l in train_curves:\n",
        "      plt.plot(train_curves[l], label = l)\n",
        "    plt.title(\"Epoch vs Training Percentage Error\")\n",
        "    plt.xlabel(\"Epoch\")\n",
        "    plt.ylabel(\"Percentage Accuracy (%)\")\n",
        "    plt.legend()\n",
        "    plt.show()\n",
        "\n",
        "    for l in train_loss_curves:\n",
        "      plt.plot(train_loss_curves[l], label = l)\n",
        "    plt.title(\"Epoch vs Training Loss\")\n",
        "    plt.xlabel(\"Epoch\")\n",
        "    plt.ylabel(\"Loss (Cross Entropy)\")\n",
        "    plt.legend()\n",
        "    plt.show()"
      ],
      "execution_count": null,
      "outputs": [
        {
          "output_type": "stream",
          "name": "stdout",
          "text": [
            "Files already downloaded and verified\n",
            "Files already downloaded and verified\n",
            "Files already downloaded and verified\n",
            "Files already downloaded and verified\n"
          ]
        },
        {
          "output_type": "stream",
          "name": "stderr",
          "text": [
            "\n",
            "\n",
            "0it [00:00, ?it/s]\u001b[A\u001b[A"
          ]
        },
        {
          "output_type": "stream",
          "name": "stdout",
          "text": [
            "Epoch: 0, Loss: 1.846, Accuracy: 31.750% (12700/40000)\n",
            "Epoch: 1, Loss: 1.399, Accuracy: 48.048% (24024/50000)\n",
            "Epoch: 2, Loss: 1.159, Accuracy: 58.420% (29210/50000)\n",
            "Epoch: 3, Loss: 0.997, Accuracy: 65.098% (32549/50000)\n",
            "Epoch: 4, Loss: 0.881, Accuracy: 68.856% (34428/50000)\n",
            "Epoch: 5, Loss: 0.799, Accuracy: 71.872% (35936/50000)\n",
            "Epoch: 6, Loss: 0.736, Accuracy: 74.302% (37151/50000)\n",
            "Epoch: 7, Loss: 0.679, Accuracy: 75.700% (37850/50000)\n",
            "Epoch: 8, Loss: 0.629, Accuracy: 77.834% (38917/50000)\n",
            "Epoch: 9, Loss: 0.591, Accuracy: 79.028% (39514/50000)\n",
            "Epoch: 10, Loss: 0.554, Accuracy: 80.574% (40287/50000)\n",
            "Epoch: 11, Loss: 0.536, Accuracy: 80.848% (40424/50000)\n",
            "Epoch: 12, Loss: 0.500, Accuracy: 82.210% (41105/50000)\n",
            "Epoch: 13, Loss: 0.471, Accuracy: 83.264% (41632/50000)\n",
            "Epoch: 14, Loss: 0.442, Accuracy: 83.496% (41748/50000)\n",
            "Epoch: 15, Loss: 0.424, Accuracy: 84.548% (42274/50000)\n",
            "Epoch: 16, Loss: 0.402, Accuracy: 85.468% (42734/50000)\n",
            "Epoch: 17, Loss: 0.385, Accuracy: 85.928% (42964/50000)\n",
            "Epoch: 18, Loss: 0.365, Accuracy: 86.658% (43329/50000)\n",
            "Epoch: 19, Loss: 0.353, Accuracy: 86.826% (43413/50000)\n"
          ]
        },
        {
          "output_type": "stream",
          "name": "stderr",
          "text": [
            "\n",
            "\n",
            "1it [07:01, 421.76s/it]\u001b[A\u001b[A"
          ]
        },
        {
          "output_type": "stream",
          "name": "stdout",
          "text": [
            "Epoch: 0, Loss: 1.775, Accuracy: 34.337% (13735/40000)\n"
          ]
        },
        {
          "output_type": "stream",
          "name": "stderr",
          "text": [
            "0it [08:10, ?it/s]\n",
            "0it [08:10, ?it/s]\n",
            "0it [08:11, ?it/s]\n",
            "0it [08:11, ?it/s]\n",
            "0it [08:13, ?it/s]\n"
          ]
        },
        {
          "output_type": "stream",
          "name": "stdout",
          "text": [
            "Epoch: 1, Loss: 1.287, Accuracy: 52.796% (26398/50000)\n",
            "Epoch: 2, Loss: 1.032, Accuracy: 63.278% (31639/50000)\n",
            "Epoch: 3, Loss: 0.899, Accuracy: 68.928% (34464/50000)\n",
            "Epoch: 4, Loss: 0.808, Accuracy: 71.648% (35824/50000)\n",
            "Epoch: 5, Loss: 0.754, Accuracy: 73.496% (36748/50000)\n",
            "Epoch: 6, Loss: 0.694, Accuracy: 76.434% (38217/50000)\n",
            "Epoch: 7, Loss: 0.643, Accuracy: 77.146% (38573/50000)\n",
            "Epoch: 8, Loss: 0.581, Accuracy: 79.376% (39688/50000)\n",
            "Epoch: 9, Loss: 0.541, Accuracy: 80.950% (40475/50000)\n",
            "Epoch: 10, Loss: 0.497, Accuracy: 82.706% (41353/50000)\n",
            "Epoch: 11, Loss: 0.444, Accuracy: 84.394% (42197/50000)\n",
            "Epoch: 12, Loss: 0.396, Accuracy: 85.650% (42825/50000)\n",
            "Epoch: 13, Loss: 0.389, Accuracy: 85.860% (42930/50000)\n",
            "Epoch: 14, Loss: 0.409, Accuracy: 85.588% (42794/50000)\n",
            "Epoch: 15, Loss: 0.422, Accuracy: 84.734% (42367/50000)\n",
            "Epoch: 16, Loss: 0.436, Accuracy: 84.408% (42204/50000)\n",
            "Epoch: 17, Loss: 0.438, Accuracy: 84.332% (42166/50000)\n",
            "Epoch: 18, Loss: 0.439, Accuracy: 84.466% (42233/50000)\n",
            "Epoch: 19, Loss: 0.434, Accuracy: 84.564% (42282/50000)\n"
          ]
        },
        {
          "output_type": "stream",
          "name": "stderr",
          "text": [
            "\n",
            "\n",
            "2it [13:57, 418.48s/it]\u001b[A\u001b[A"
          ]
        },
        {
          "output_type": "stream",
          "name": "stdout",
          "text": [
            "Epoch: 0, Loss: 2.013, Accuracy: 26.045% (10418/40000)\n",
            "Epoch: 1, Loss: 1.587, Accuracy: 41.758% (20879/50000)\n",
            "Epoch: 2, Loss: 1.414, Accuracy: 48.126% (24063/50000)\n",
            "Epoch: 3, Loss: 1.294, Accuracy: 53.790% (26895/50000)\n",
            "Epoch: 4, Loss: 1.180, Accuracy: 57.646% (28823/50000)\n",
            "Epoch: 5, Loss: 1.073, Accuracy: 62.276% (31138/50000)\n",
            "Epoch: 6, Loss: 0.979, Accuracy: 65.772% (32886/50000)\n",
            "Epoch: 7, Loss: 0.898, Accuracy: 68.504% (34252/50000)\n",
            "Epoch: 8, Loss: 0.825, Accuracy: 71.284% (35642/50000)\n",
            "Epoch: 9, Loss: 0.771, Accuracy: 72.992% (36496/50000)\n",
            "Epoch: 10, Loss: 0.715, Accuracy: 74.456% (37228/50000)\n",
            "Epoch: 11, Loss: 0.675, Accuracy: 76.326% (38163/50000)\n",
            "Epoch: 12, Loss: 0.625, Accuracy: 77.960% (38980/50000)\n",
            "Epoch: 13, Loss: 0.610, Accuracy: 78.754% (39377/50000)\n",
            "Epoch: 14, Loss: 0.602, Accuracy: 78.912% (39456/50000)\n",
            "Epoch: 15, Loss: 0.588, Accuracy: 78.938% (39469/50000)\n",
            "Epoch: 16, Loss: 0.572, Accuracy: 79.554% (39777/50000)\n",
            "Epoch: 17, Loss: 0.553, Accuracy: 80.490% (40245/50000)\n",
            "Epoch: 18, Loss: 0.540, Accuracy: 81.140% (40570/50000)\n",
            "Epoch: 19, Loss: 0.512, Accuracy: 81.528% (40764/50000)\n"
          ]
        },
        {
          "output_type": "stream",
          "name": "stderr",
          "text": [
            "\n",
            "\n",
            "3it [21:08, 423.98s/it]\u001b[A\u001b[A"
          ]
        },
        {
          "output_type": "stream",
          "name": "stdout",
          "text": [
            "Epoch: 0, Loss: 2.283, Accuracy: 13.305% (5322/40000)\n",
            "Epoch: 1, Loss: 2.126, Accuracy: 24.226% (12113/50000)\n",
            "Epoch: 2, Loss: 1.954, Accuracy: 29.682% (14841/50000)\n",
            "Epoch: 3, Loss: 1.835, Accuracy: 34.264% (17132/50000)\n",
            "Epoch: 4, Loss: 1.726, Accuracy: 38.250% (19125/50000)\n",
            "Epoch: 5, Loss: 1.631, Accuracy: 41.106% (20553/50000)\n",
            "Epoch: 6, Loss: 1.554, Accuracy: 44.068% (22034/50000)\n",
            "Epoch: 7, Loss: 1.501, Accuracy: 45.830% (22915/50000)\n",
            "Epoch: 8, Loss: 1.458, Accuracy: 47.534% (23767/50000)\n",
            "Epoch: 9, Loss: 1.416, Accuracy: 49.348% (24674/50000)\n",
            "Epoch: 10, Loss: 1.396, Accuracy: 50.142% (25071/50000)\n",
            "Epoch: 11, Loss: 1.362, Accuracy: 51.512% (25756/50000)\n",
            "Epoch: 12, Loss: 1.337, Accuracy: 52.216% (26108/50000)\n",
            "Epoch: 13, Loss: 1.326, Accuracy: 52.618% (26309/50000)\n",
            "Epoch: 14, Loss: 1.317, Accuracy: 53.040% (26520/50000)\n",
            "Epoch: 15, Loss: 1.297, Accuracy: 53.864% (26932/50000)\n",
            "Epoch: 16, Loss: 1.279, Accuracy: 54.704% (27352/50000)\n",
            "Epoch: 17, Loss: 1.261, Accuracy: 55.624% (27812/50000)\n",
            "Epoch: 18, Loss: 1.244, Accuracy: 55.814% (27907/50000)\n",
            "Epoch: 19, Loss: 1.227, Accuracy: 57.112% (28556/50000)\n"
          ]
        },
        {
          "output_type": "stream",
          "name": "stderr",
          "text": [
            "\n",
            "\n",
            "4it [28:21, 427.42s/it]\u001b[A\u001b[A"
          ]
        },
        {
          "output_type": "stream",
          "name": "stdout",
          "text": [
            "DONESKDAKSDJLSD\n"
          ]
        },
        {
          "output_type": "display_data",
          "data": {
            "image/png": "[encoded data removed]",
            "text/plain": [
              "<Figure size 432x288 with 1 Axes>"
            ]
          },
          "metadata": {
            "needs_background": "light"
          }
        },
        {
          "output_type": "display_data",
          "data": {
            "image/png": "[encoded data removed]",
            "text/plain": [
              "<Figure size 432x288 with 1 Axes>"
            ]
          },
          "metadata": {
            "needs_background": "light"
          }
        },
        {
          "output_type": "stream",
          "name": "stderr",
          "text": [
            "\r0it [36:31, ?it/s]\n"
          ]
        },
        {
          "output_type": "display_data",
          "data": {
            "image/png": "[encoded data removed]",
            "text/plain": [
              "<Figure size 432x288 with 1 Axes>"
            ]
          },
          "metadata": {
            "needs_background": "light"
          }
        },
        {
          "output_type": "stream",
          "name": "stdout",
          "text": [
            "Epoch: 0, Loss: 1.846, Accuracy: 31.648% (12659/40000)\n",
            "Epoch: 1, Loss: 1.401, Accuracy: 48.434% (24217/50000)\n",
            "Epoch: 2, Loss: 1.167, Accuracy: 57.798% (28899/50000)\n",
            "Epoch: 3, Loss: 0.998, Accuracy: 64.824% (32412/50000)\n",
            "Epoch: 4, Loss: 0.875, Accuracy: 69.088% (34544/50000)\n",
            "Epoch: 5, Loss: 0.787, Accuracy: 72.432% (36216/50000)\n",
            "Epoch: 6, Loss: 0.724, Accuracy: 74.642% (37321/50000)\n",
            "Epoch: 7, Loss: 0.674, Accuracy: 76.444% (38222/50000)\n",
            "Epoch: 8, Loss: 0.632, Accuracy: 77.450% (38725/50000)\n",
            "Epoch: 9, Loss: 0.591, Accuracy: 79.214% (39607/50000)\n",
            "Epoch: 10, Loss: 0.559, Accuracy: 80.296% (40148/50000)\n",
            "Epoch: 11, Loss: 0.521, Accuracy: 81.696% (40848/50000)\n",
            "Epoch: 12, Loss: 0.500, Accuracy: 82.446% (41223/50000)\n",
            "Epoch: 13, Loss: 0.470, Accuracy: 83.130% (41565/50000)\n",
            "Epoch: 14, Loss: 0.447, Accuracy: 83.848% (41924/50000)\n",
            "Epoch: 15, Loss: 0.424, Accuracy: 84.662% (42331/50000)\n",
            "Epoch: 16, Loss: 0.405, Accuracy: 85.142% (42571/50000)\n",
            "Epoch: 17, Loss: 0.386, Accuracy: 85.808% (42904/50000)\n",
            "Epoch: 18, Loss: 0.366, Accuracy: 86.294% (43147/50000)\n",
            "Epoch: 19, Loss: 0.347, Accuracy: 87.110% (43555/50000)\n"
          ]
        },
        {
          "output_type": "stream",
          "name": "stderr",
          "text": [
            "\n",
            "\n",
            "5it [35:27, 427.13s/it]\u001b[A\u001b[A"
          ]
        },
        {
          "output_type": "stream",
          "name": "stdout",
          "text": [
            "Epoch: 0, Loss: 1.773, Accuracy: 34.633% (13853/40000)\n",
            "Epoch: 1, Loss: 1.288, Accuracy: 52.266% (26133/50000)\n"
          ]
        }
      ]
    }
  ]
}